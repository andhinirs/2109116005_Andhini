{
  "nbformat": 4,
  "nbformat_minor": 0,
  "metadata": {
    "colab": {
      "provenance": [],
      "collapsed_sections": [
        "cjWoqGHASe7X",
        "cPJ8yin3mkn5",
        "T0QN7h1DnCki",
        "IF2msKXLoBSO",
        "FikhS3HZoHja",
        "rNNilQH3oOT0",
        "fUDCZChLoank",
        "ejN2XfmAIhjO",
        "5J_FjV_9Lol6"
      ],
      "authorship_tag": "ABX9TyMIKb2SOEDvDXQ3+QdNMERG",
      "include_colab_link": true
    },
    "kernelspec": {
      "name": "python3",
      "display_name": "Python 3"
    },
    "language_info": {
      "name": "python"
    }
  },
  "cells": [
    {
      "cell_type": "markdown",
      "metadata": {
        "id": "view-in-github",
        "colab_type": "text"
      },
      "source": [
        "<a href=\"https://colab.research.google.com/github/andhinirs/CRUD-Bioskop/blob/main/A1_2109116005_Posttest1.ipynb\" target=\"_parent\"><img src=\"https://colab.research.google.com/assets/colab-badge.svg\" alt=\"Open In Colab\"/></a>"
      ]
    },
    {
      "cell_type": "markdown",
      "source": [
        "<h1>Posttest Praktikum Sistem Informasi </h1>\n",
        "\n",
        "NIM **2109116005**\n",
        "\n",
        "NAMA **Andhini Rahmitasari**"
      ],
      "metadata": {
        "id": "Hsl1yaHUNMHY"
      }
    },
    {
      "cell_type": "markdown",
      "source": [
        "## Business Understanding & Data Understanding"
      ],
      "metadata": {
        "id": "gZ0UyxxsNiqW"
      }
    },
    {
      "cell_type": "code",
      "source": [
        "# Import library yang diperlukan\n",
        "import pandas as pd\n",
        "import seaborn as sns\n",
        "import plotly.express as px"
      ],
      "metadata": {
        "id": "t6C0qWqBNwAE"
      },
      "execution_count": null,
      "outputs": []
    },
    {
      "cell_type": "code",
      "source": [
        "# Menaruh dataset dalam sebuah variabel df\n",
        "df = pd.read_csv(\"ChurnBank.csv\")"
      ],
      "metadata": {
        "id": "TrgJlsBqQYsZ"
      },
      "execution_count": null,
      "outputs": []
    },
    {
      "cell_type": "code",
      "source": [
        "# Menampilkan hasil df\n",
        "df"
      ],
      "metadata": {
        "id": "kYBa72t5Q9FI"
      },
      "execution_count": null,
      "outputs": []
    },
    {
      "cell_type": "markdown",
      "source": [
        "### Business Understanding\n",
        "\n",
        "- **Tujuan Penggunaan Dataset**\n",
        "\n",
        "Dengan dataset yang ada bertujuan untuk dapat menghitung lalu diklasifikasikan data dari nasabah agar bisa menentukan prediksi yang tepat dengan menggunakan algoritma Naive Bayes.\n",
        "\n",
        "- **Tujuan Perusahaan**\n",
        "\n",
        "Studi kasus nya terdapat pada perusahaan yang bergerak dalam bidang keuangan yaitu sebuah perbankan yang memiliki tujuan dalam menentukan nasabah mana yang tepat untuk dapat ditawarkan deposito (simpanan yang pencairannya hanya dapat dilakukan pada jangka waktu tertentu).\n",
        "\n",
        "\n",
        "- **Tujuan Penggunaan Naive Bayes**\n",
        "\n",
        "Tujuan dari penggunaan algoritma naive bayes dalam perusahaan adalah untuk mengklasifikasikan dataset yang ada lalu memprediksi data nasabah dengan tepat. Dengan menggunakan naive bayes hasil prediksi yang didapatkan akan lebih akurat sehingga perusahaan mampu menawarkan deposito pada nasabah dengan tepat sasaran. Naive bayes mampu mengelola dataset untuk membantu perusahaan dalam mengambil keputusan yang tepat dimasa yang akan datang. \n"
      ],
      "metadata": {
        "id": "2XhOfC8PR3rJ"
      }
    },
    {
      "cell_type": "markdown",
      "source": [
        "### Data Understanding"
      ],
      "metadata": {
        "id": "cjWoqGHASe7X"
      }
    },
    {
      "cell_type": "code",
      "source": [
        "# Melakukan filter terhadap dataset dengan beberapa variabel\n",
        "\n",
        "df1 = df[df[\"Attrition_Flag\"] == \"Attrited Customer\"]\n",
        "df2 = df[df[\"Attrition_Flag\"] != \"Attrited Customer\"]\n",
        "df3 = df[df[\"Customer_Age\"] < 50]\n",
        "df4 = df[df[\"Marital_Status\"] == \"Single\"]"
      ],
      "metadata": {
        "id": "HXoIl72QSiTv"
      },
      "execution_count": null,
      "outputs": []
    },
    {
      "cell_type": "code",
      "source": [
        "# Memanggil dataset dengan variabel df1\n",
        "df1"
      ],
      "metadata": {
        "id": "WsOVb639TRku"
      },
      "execution_count": null,
      "outputs": []
    },
    {
      "cell_type": "code",
      "source": [
        "# Memanggil dataset dengan variabel df2\n",
        "df2"
      ],
      "metadata": {
        "id": "ChRn0COAT4Sm"
      },
      "execution_count": null,
      "outputs": []
    },
    {
      "cell_type": "code",
      "source": [
        "# Memanggil dataset dengan variabel df3\n",
        "df3"
      ],
      "metadata": {
        "id": "Gcl4JM3_T4u4"
      },
      "execution_count": null,
      "outputs": []
    },
    {
      "cell_type": "code",
      "source": [
        "# Memanggil dataset dengan variabel df4\n",
        "df4"
      ],
      "metadata": {
        "id": "w6RQ_y_1T5Ga"
      },
      "execution_count": null,
      "outputs": []
    },
    {
      "cell_type": "code",
      "source": [
        "# Menampilkan info dataset \n",
        "(df.info())"
      ],
      "metadata": {
        "id": "VPZjG_F5UCRr"
      },
      "execution_count": null,
      "outputs": []
    },
    {
      "cell_type": "markdown",
      "source": [
        "**info()** adalah perintah yang digunakan untuk memberikan informasi mengenai nomor index dan tipe data dari dataset yang kita miliki. \n",
        "\n",
        "pada hasil diatas ditunjukkan bahwa dataset dengan nama variabel df memilki informasi berupa :\n",
        "- Range index dengan total masukkan 20 dari 0-19.\n",
        "- Ada total 10 kolom pada data.\n",
        "- 1 kolom bertipe data (float64), 3 kolom memiliki tipe data (int64), dan 6 kolom bertipe data (object).\n",
        "- Pada seluruh kolom memilki 20 data non-null.\n",
        "\n",
        "\n",
        "\n",
        "\n",
        "\n"
      ],
      "metadata": {
        "id": "NjSX-SBJDiQe"
      }
    },
    {
      "cell_type": "markdown",
      "source": [
        "###Opsional (nilai plus)"
      ],
      "metadata": {
        "id": "cPJ8yin3mkn5"
      }
    },
    {
      "cell_type": "code",
      "source": [
        "# Membuat dataset baru dengan mengambil dari dataset df hanya kolom bertipe angka\n",
        "df5= df[['Unnamed: 0', 'CLIENTNUM', 'Customer_Age', 'Credit_Limit']]\n",
        "df5"
      ],
      "metadata": {
        "id": "ZHo_RIycm4D7"
      },
      "execution_count": null,
      "outputs": []
    },
    {
      "cell_type": "code",
      "source": [
        "# Menampilkan hasil statistik dari kolom bertipe angka\n",
        "df5.describe()"
      ],
      "metadata": {
        "id": "AmJUlkAPLfrC"
      },
      "execution_count": null,
      "outputs": []
    },
    {
      "cell_type": "code",
      "source": [
        "# Menampilkan nilai mean dari kolom bertipe angka\n",
        "df5.mean()"
      ],
      "metadata": {
        "id": "uGvSRnnWuKeM"
      },
      "execution_count": null,
      "outputs": []
    },
    {
      "cell_type": "code",
      "source": [
        "# Menampilkan nilai min dari kolom bertipe angka\n",
        "df5.min()"
      ],
      "metadata": {
        "id": "CW76SS7muKWW"
      },
      "execution_count": null,
      "outputs": []
    },
    {
      "cell_type": "code",
      "source": [
        "# Menampilkan nilai max dari kolom bertipe angka\n",
        "df5.max()"
      ],
      "metadata": {
        "id": "41JNa2XxuKMJ"
      },
      "execution_count": null,
      "outputs": []
    },
    {
      "cell_type": "code",
      "source": [
        "# Menampilkan nilai standar deviasi dari kolom yang bertipe angka\n",
        "df5.std()"
      ],
      "metadata": {
        "id": "nFhblDa2uJ8k"
      },
      "execution_count": null,
      "outputs": []
    },
    {
      "cell_type": "markdown",
      "source": [
        "#### Explore Data\n",
        "\n"
      ],
      "metadata": {
        "id": "ir_QDiL0m9on"
      }
    },
    {
      "cell_type": "markdown",
      "source": [
        "##### Visualisasi Comparison"
      ],
      "metadata": {
        "id": "T0QN7h1DnCki"
      }
    },
    {
      "cell_type": "code",
      "source": [
        "# Menampilkan visualisasi berapa banyak yang attired customer dan tidak \n",
        "sns.countplot(data=df,x=\"Attrition_Flag\") #Variabel sns digunakan untuk mengakses fungsi-fungsi yang tersedia di librari seaborn"
      ],
      "metadata": {
        "id": "74SlVIq2nLQU"
      },
      "execution_count": null,
      "outputs": []
    },
    {
      "cell_type": "code",
      "source": [
        "# Menampilkan visualisasi berapa banyak Education level berdasarkan kategori-kategorinya \n",
        "sns.countplot(data=df, y=\"Education_Level\")"
      ],
      "metadata": {
        "id": "OYmnDwLtnOJw"
      },
      "execution_count": null,
      "outputs": []
    },
    {
      "cell_type": "code",
      "source": [
        "# Menampilkan visualisasi berapa banyak Education level Education level berdasarkan gendernya\n",
        "sns.countplot(data=df, y=\"Education_Level\", hue=\"Gender\")"
      ],
      "metadata": {
        "id": "Btjh7qzInP4a"
      },
      "execution_count": null,
      "outputs": []
    },
    {
      "cell_type": "markdown",
      "source": [
        "\n",
        "1. Visualisasi comparison ini bertujuan untuk membandingkan jumlah atau banyaknya dalam satu variabel yang data yang sama. Countplot ini digunakan untuk menampilkan jumlah objek dari masing-masing nilai kolom attrition_flag. Didapatkan hasil berupa banyaknya objek yang termasuk attired customer adalah sebanyak 10 objek dan yang bukan attired customer atau existing customer sebanyak 10 objek.\n",
        "\n",
        "2. Dengan menggunakan visualisasi countplot didapatkan perbandingan banyaknya objek education level berdasarkan kategori di dalamnya.\n",
        "\n",
        "3. Masih sama menggunakan visualisasi countplot untuk mendapatkan berapa banyak objek dalam education level, lalu dengan sintaks 'hue' untuk dapat menampilkan objek education level berdasarkan gendernya yaitu m untuk male dan f untuk female."
      ],
      "metadata": {
        "id": "PggBfrCmnR3o"
      }
    },
    {
      "cell_type": "markdown",
      "source": [
        "##### Visualisasi Distribution"
      ],
      "metadata": {
        "id": "IF2msKXLoBSO"
      }
    },
    {
      "cell_type": "code",
      "source": [
        "# Membuat histogram customer age\n",
        "sns.histplot(data=df, x=\"Customer_Age\", kde=True)"
      ],
      "metadata": {
        "id": "azX82uvSoEpS"
      },
      "execution_count": null,
      "outputs": []
    },
    {
      "cell_type": "code",
      "source": [
        "# Membuat histogram credit limit\n",
        "sns.histplot(data=df, x=\"Credit_Limit\", kde=True)"
      ],
      "metadata": {
        "id": "sBo-XE3uoEVw"
      },
      "execution_count": null,
      "outputs": []
    },
    {
      "cell_type": "code",
      "source": [
        "# Membuat boxplot customer age\n",
        "sns.boxplot(data=df, x=\"Customer_Age\")"
      ],
      "metadata": {
        "id": "8snJMSjZc-pm"
      },
      "execution_count": null,
      "outputs": []
    },
    {
      "cell_type": "code",
      "source": [
        "# Membuat boxplot credit limit\n",
        "sns.boxplot(data=df, x=\"Credit_Limit\")"
      ],
      "metadata": {
        "id": "ZcTlC-dIc_Kd"
      },
      "execution_count": null,
      "outputs": []
    },
    {
      "cell_type": "markdown",
      "source": [
        "1. Histogram merupakan visualisasi grafis distribusi data dalam bentuk batang yang membentang di sepanjang rentang datanya. Untuk menggambar histogram digunakan method histplot() maka akan ditampilkan histogram untuk customer dan credit limit nasabah dengan menggunakan variabel 'hue' yang dipetakan untuk menentukan warna elemen plot.\n",
        "\n",
        "2. Menggambarkan visualisasi untuk menunjukkan distribusi yang berhubungan dengan kategori. Visualisasi ini dapat digunakan untuk melihat distribusi data, nilai maksimum dan minimum serta nilai kuantil dari data credit limit."
      ],
      "metadata": {
        "id": "WOQeTQ4zoGK6"
      }
    },
    {
      "cell_type": "markdown",
      "source": [
        "##### Visualisasi Relationship"
      ],
      "metadata": {
        "id": "FikhS3HZoHja"
      }
    },
    {
      "cell_type": "code",
      "source": [
        "# Membuat scatterplot untuk customer Age dan credit card limit\n",
        "sns.scatterplot(data=df,x=\"Customer_Age\",y=\"Credit_Limit\")"
      ],
      "metadata": {
        "id": "n_ic0ZmZoNcY"
      },
      "execution_count": null,
      "outputs": []
    },
    {
      "cell_type": "markdown",
      "source": [
        "##### Visualisasi Composition\n",
        "\n",
        "\n"
      ],
      "metadata": {
        "id": "rNNilQH3oOT0"
      }
    },
    {
      "cell_type": "code",
      "source": [
        "# Membuat pieplot Income Category \n",
        "px.pie(df, names=\"Income_Category\")"
      ],
      "metadata": {
        "id": "hMZdzDH2oQba"
      },
      "execution_count": null,
      "outputs": []
    },
    {
      "cell_type": "code",
      "source": [
        " # Membuat pieplot Education Level\n",
        "px.pie(df, names=\"Education_Level\")"
      ],
      "metadata": {
        "id": "HWBvITlpdyyl"
      },
      "execution_count": null,
      "outputs": []
    },
    {
      "cell_type": "markdown",
      "source": [
        "### Opsional (Nilai Plus)"
      ],
      "metadata": {
        "id": "fUDCZChLoank"
      }
    },
    {
      "cell_type": "code",
      "source": [
        "# Membuat visualisasi boxplot Credit Card Limit dengan Jenis Kelamin sebagai pemisahnya (color)\n",
        "sns.boxplot(data=df, x=\"Credit_Limit\", hue=\"Gender\" )"
      ],
      "metadata": {
        "id": "ySWevu1Roeav"
      },
      "execution_count": null,
      "outputs": []
    },
    {
      "cell_type": "code",
      "source": [
        "# Membuat visualisasi boxplot Credit Card Limit dengan Attrition Flag sebagai pemisahnya (color)\n",
        "sns.boxplot(data=df, x=\"Credit_Limit\", y=\"Attrition_Flag\", hue=\"Attrition_Flag\", color=\"blue\" )"
      ],
      "metadata": {
        "id": "v298g_QwoeUU"
      },
      "execution_count": null,
      "outputs": []
    },
    {
      "cell_type": "code",
      "source": [
        "# Membuat visualisasi boxplot Age dengan Attrition Flag sebagai pemisahnya (color)\n",
        "sns.boxplot(data=df, x=\"Customer_Age\", y=\"Attrition_Flag\", hue=\"Attrition_Flag\", color=\"blue\" )"
      ],
      "metadata": {
        "id": "l0fy7SJqoeM7"
      },
      "execution_count": null,
      "outputs": []
    },
    {
      "cell_type": "code",
      "source": [
        "# Membuat visualisasi countplot Attrition Flag dengan jenis kelamin sebagai pemisahnya (color)\n",
        "sns.countplot(data=df, x=\"Attrition_Flag\", hue=\"Gender\", color=\"blue\" )"
      ],
      "metadata": {
        "id": "rVKpvTtHoeGA"
      },
      "execution_count": null,
      "outputs": []
    },
    {
      "cell_type": "code",
      "source": [
        "# Membuat visualisasi heatmap untuk Setiap variabel numerik yang ada\n",
        "sns.heatmap(df5.corr(),  cmap =\"Blues_r\", linecolor =\"white\", lw=2 )"
      ],
      "metadata": {
        "id": "EvYVU6GQod-o"
      },
      "execution_count": null,
      "outputs": []
    },
    {
      "cell_type": "markdown",
      "source": [
        "## Algoritma Naive Bayes dan Preprocessing (pengenalan)"
      ],
      "metadata": {
        "id": "5KTlJJ4-ofOY"
      }
    },
    {
      "cell_type": "markdown",
      "source": [
        "### Membuat Dataset Baru"
      ],
      "metadata": {
        "id": "ejN2XfmAIhjO"
      }
    },
    {
      "cell_type": "code",
      "source": [
        "# Membuat dataset baru dengan menghapus kolom yang berupa primary key dan bukan tipe kategori\n",
        "df = pd.read_csv(\"ChurnBank.csv\")\n",
        "df\n",
        "df_baru = df.drop(columns = [\"Unnamed: 0\", \"CLIENTNUM\", \"Customer_Age\", \"Credit_Limit\"])"
      ],
      "metadata": {
        "id": "CW_r0IDkea4U"
      },
      "execution_count": null,
      "outputs": []
    },
    {
      "cell_type": "code",
      "source": [
        "# Memanggil data frame baru\n",
        "df_baru"
      ],
      "metadata": {
        "id": "bfrGS-p2fLTJ"
      },
      "execution_count": null,
      "outputs": []
    },
    {
      "cell_type": "markdown",
      "source": [
        "### Fungsi Naive Bayes"
      ],
      "metadata": {
        "id": "5J_FjV_9Lol6"
      }
    },
    {
      "cell_type": "code",
      "source": [
        "def Naive_Bayes(Prediksi:list)-> tuple :\n",
        "    attrited = df_baru[df_baru[\"Attrition_Flag\"]==\"Attrited Customer\"]\n",
        "    existing = df_baru[df_baru[\"Attrition_Flag\"]==\"Existing Customer\"]\n",
        "\n",
        "    attrited_prior = len(attrited) / len(df_baru)\n",
        "    existing_prior = len(existing) / len(df_baru)\n",
        "\n",
        "    for i in range(len(Prediksi)):\n",
        "        attrited_subset = attrited[attrited.iloc[:,i]==Prediksi[i]]\n",
        "        existing_subset = existing[existing.iloc[:,i]==Prediksi[i]]\n",
        "        \n",
        "        attrited_posterior = (len(attrited_subset) + 1) / (len(attrited) + len(df_baru.iloc[:,i].unique()))\n",
        "        existing_posterior = (len(existing_subset) + 1) / (len(existing) + len(df_baru.iloc[:,i].unique()))\n",
        "        \n",
        "        if i == 0:\n",
        "            attrited_likelihood = attrited_posterior\n",
        "            existing_likelihood = existing_posterior\n",
        "        else:\n",
        "            attrited_likelihood *= attrited_posterior\n",
        "            existing_likelihood *= existing_posterior\n",
        " \n",
        "    attrited_posterior = attrited_prior * attrited_likelihood\n",
        "    existing_posterior = existing_prior * existing_likelihood\n",
        "  \n",
        "    Persentasenya = existing_posterior / (attrited_posterior + existing_posterior)\n",
        "    Hasil = \"Existing Customer\" if Persentasenya >= 0.5 else \"Attrited Customer\"\n",
        "    \n",
        "    return (Hasil, Persentasenya)"
      ],
      "metadata": {
        "id": "6FyOJuDiJf9Z"
      },
      "execution_count": null,
      "outputs": []
    },
    {
      "cell_type": "code",
      "source": [
        "Hasil = Naive_Bayes([\"F\", \"Uneducated\", \"Single\", \"Unknown\", \"Blue\"])\n",
        "print (Hasil)"
      ],
      "metadata": {
        "id": "mph9WPQfJjom"
      },
      "execution_count": null,
      "outputs": []
    }
  ]
}